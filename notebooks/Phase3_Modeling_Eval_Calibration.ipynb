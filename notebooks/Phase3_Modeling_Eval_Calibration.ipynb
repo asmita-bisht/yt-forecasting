{
  "cells": [
    {
      "cell_type": "markdown",
      "metadata": {},
      "source": [
        "# Phase 3 — Modeling, Evaluation & Calibration\n",
        "\n",
        "**Goal:** Train candidate models, pick a winner, calibrate probabilities, and save a deployable bundle.\n",
        "\n",
        "**Inputs:** Phase-2 modeling table (`ml_table.parquet`/CSV).\n",
        "\n",
        "**Outputs (example):**\n",
        "- `models/phase3_bundle.joblib`\n",
        "- `reports/bundle_meta_{timestamp}.json`  (thresholds, winner info)\n",
        "\n",
        "**Assumptions:**\n",
        "- Label column is `viral` (0/1).\n",
        "- All model code and custom classes like `SoftVotingEnsemble` are importable at load time.\n"
      ]
    },
    {
      "cell_type": "code",
      "execution_count": 104,
      "id": "f60134c7",
      "metadata": {
        "colab": {
          "base_uri": "https://localhost:8080/"
        },
        "id": "f60134c7",
        "outputId": "1ebc43a5-3787-48eb-c72f-0f08b83c89b5"
      },
      "outputs": [],
      "source": [
        "# ===== 1) SETUP =====\n",
        "\n",
        "# --- Standard library ---\n",
        "import os\n",
        "import glob\n",
        "import json\n",
        "from pathlib import Path\n",
        "from datetime import datetime, timezone\n",
        "\n",
        "# --- Third-party ---\n",
        "import numpy as np\n",
        "import pandas as pd\n",
        "import matplotlib.pyplot as plt\n",
        "import joblib\n",
        "import scipy.sparse as sp\n",
        "\n",
        "# --- ML: scikit-learn ---\n",
        "from sklearn.model_selection import train_test_split\n",
        "from sklearn.compose import ColumnTransformer\n",
        "from sklearn.preprocessing import OneHotEncoder, StandardScaler\n",
        "from sklearn.impute import SimpleImputer\n",
        "from sklearn.pipeline import Pipeline  # (Use this; no need for an alias + duplicate imports)\n",
        "from sklearn.feature_extraction.text import TfidfVectorizer\n",
        "from sklearn.decomposition import TruncatedSVD\n",
        "from sklearn.linear_model import LogisticRegression\n",
        "from sklearn.ensemble import ExtraTreesClassifier\n",
        "from sklearn.calibration import CalibratedClassifierCV, calibration_curve\n",
        "from sklearn.metrics import (\n",
        "    precision_recall_curve,\n",
        "    average_precision_score,\n",
        "    roc_curve,\n",
        "    roc_auc_score,\n",
        "    brier_score_loss,\n",
        "    confusion_matrix,\n",
        "    classification_report,\n",
        ")\n",
        "\n",
        "# --- ML: gradient boosting libs ---\n",
        "from lightgbm import LGBMClassifier\n",
        "from xgboost import XGBClassifier\n",
        "\n",
        "# --- Local models ---\n",
        "from models.soft_voting_ensemble import SoftVotingEnsemble\n"
      ]
    },
    {
      "cell_type": "code",
      "execution_count": 105,
      "id": "d8d1e846",
      "metadata": {},
      "outputs": [
        {
          "name": "stdout",
          "output_type": "stream",
          "text": [
            "Configured TOP_FRAC: 0.1\n"
          ]
        }
      ],
      "source": [
        "# ===== 2) CONFIG  =====\n",
        "\n",
        "# reproducibility\n",
        "RANDOM_STATE = 42\n",
        "\n",
        "# operating point (matches your \"viral = top 10%\" definition)\n",
        "TOP_FRAC = 0.10\n",
        "\n",
        "# TF-IDF sizes \n",
        "TITLE_TFIDF_MAX_FEATURES = 30000\n",
        "DESC_TFIDF_MAX_FEATURES  = 40000\n",
        "TAGS_TFIDF_MAX_FEATURES  = 15000\n",
        "\n",
        "# n-grams\n",
        "TITLE_TFIDF_NGRAM = (1,2)\n",
        "DESC_TFIDF_NGRAM  = (1,2)\n",
        "\n",
        "print(\"Configured TOP_FRAC:\", TOP_FRAC)"
      ]
    },
    {
      "cell_type": "code",
      "execution_count": 106,
      "id": "ABElAW8yCv0z",
      "metadata": {
        "colab": {
          "base_uri": "https://localhost:8080/",
          "height": 103
        },
        "id": "ABElAW8yCv0z",
        "outputId": "61a84822-2a01-48d3-e11a-12c4f7a0e21e"
      },
      "outputs": [
        {
          "name": "stdout",
          "output_type": "stream",
          "text": [
            "Repo root: /Users/asmitabisht/Desktop/repo\n",
            "CWD set to: /Users/asmitabisht/Desktop/repo\n",
            "Using INPUT_PATH: /Users/asmitabisht/Desktop/repo/data/processed/ml_table_2025-09-22T03-12-02Z.parquet\n",
            "Models dir: /Users/asmitabisht/Desktop/repo/models\n",
            "Reports dir: /Users/asmitabisht/Desktop/repo/reports\n"
          ]
        }
      ],
      "source": [
        "# ===== 3) PATH SETUP AND INPUT AUTODISCOVERY  =====\n",
        "\n",
        "def find_repo_root(start: Path = Path.cwd(), must_have=(\"data\",)):\n",
        "    \"\"\"Walk upward until we find a folder that contains the required entries (e.g., 'data').\"\"\"\n",
        "    p = start\n",
        "    while True:\n",
        "        if all((p / m).exists() for m in must_have):\n",
        "            return p\n",
        "        if p.parent == p:\n",
        "            raise FileNotFoundError(f\"Could not find a repo root above {start} containing: {must_have}\")\n",
        "        p = p.parent\n",
        "\n",
        "# normalize CWD to repo root so all relative paths are 'repo/'\n",
        "REPO_ROOT = find_repo_root(Path.cwd(), must_have=(\"data\",))\n",
        "os.chdir(REPO_ROOT)\n",
        "print(\"Repo root:\", REPO_ROOT)\n",
        "print(\"CWD set to:\", Path.cwd())\n",
        "\n",
        "# locate newest Phase-2 table\n",
        "DATA_DIR = REPO_ROOT / \"data\" / \"processed\"\n",
        "cands = list(DATA_DIR.glob(\"ml_table_*.parquet\"))\n",
        "assert cands, f\"No files matching ml_table_*.parquet under {DATA_DIR}. (Did you run Phase 2?)\"\n",
        "INPUT_PATH = str(max(cands, key=lambda p: p.stat().st_mtime).resolve())\n",
        "print(\"Using INPUT_PATH:\", INPUT_PATH)\n",
        "\n",
        "# standard output dirs under repo root (avoid notebooks/)\n",
        "MODELS_DIR  = str((REPO_ROOT / \"models\").resolve())\n",
        "REPORTS_DIR = str((REPO_ROOT / \"reports\").resolve())\n",
        "os.makedirs(MODELS_DIR, exist_ok=True)\n",
        "os.makedirs(REPORTS_DIR, exist_ok=True)\n",
        "print(\"Models dir:\", MODELS_DIR)\n",
        "print(\"Reports dir:\", REPORTS_DIR)"
      ]
    },
    {
      "cell_type": "code",
      "execution_count": 109,
      "id": "e6e96f9a",
      "metadata": {},
      "outputs": [
        {
          "name": "stdout",
          "output_type": "stream",
          "text": [
            "Loaded: /Users/asmitabisht/Desktop/repo/data/processed/ml_table_2025-09-22T03-12-02Z.parquet\n",
            "Rows: 5,240 | Cols: 35\n",
            "Sample columns: ['videoId', 'channelId', 'categoryId', 'publishedAt_utc', 'upload_day', 'duration_log1p', 'tags_count', 'title_len_words', 'title_len_chars', 'title_caps_ratio', 'title_num_exclaim', 'title_num_question', 'desc_len_words', 'pub_hour', 'pub_dow', 'channel_subscriberCount_log1p', 'channel_viewCount_log1p', 'channel_videoCount_log1p', 'title_has_question', 'title_has_exclaim']\n",
            "Positive rate (overall): 0.132\n"
          ]
        }
      ],
      "source": [
        "# ===== 4) DATA LOAD AND TARGET CHECK  =====\n",
        "\n",
        "def _load_df(path: str) -> pd.DataFrame:\n",
        "    p = Path(path)\n",
        "    if p.suffix.lower() == \".parquet\":\n",
        "        return pd.read_parquet(p)\n",
        "    elif p.suffix.lower() == \".csv\":\n",
        "        return pd.read_csv(p)\n",
        "\n",
        "df = _load_df(INPUT_PATH)\n",
        "print(f\"Loaded: {INPUT_PATH}\")\n",
        "print(f\"Rows: {len(df):,} | Cols: {len(df.columns)}\")\n",
        "print(\"Sample columns:\", list(df.columns)[:20])\n",
        "\n",
        "print(\"Positive rate (overall):\", round(float(df[\"viral\"].mean()), 3))\n"
      ]
    },
    {
      "cell_type": "code",
      "execution_count": 110,
      "id": "d04ac3f8",
      "metadata": {
        "colab": {
          "base_uri": "https://localhost:8080/"
        },
        "id": "d04ac3f8",
        "outputId": "ada4b42e-fd55-4b04-8717-53bdb6eb1d08"
      },
      "outputs": [
        {
          "name": "stdout",
          "output_type": "stream",
          "text": [
            "Loaded: /Users/asmitabisht/Desktop/repo/data/processed/ml_table_2025-09-22T03-12-02Z.parquet\n",
            "Rows: 5240 | Cols: 35\n",
            "Sample columns: ['videoId', 'channelId', 'categoryId', 'publishedAt_utc', 'upload_day', 'duration_log1p', 'tags_count', 'title_len_words', 'title_len_chars', 'title_caps_ratio', 'title_num_exclaim', 'title_num_question', 'desc_len_words', 'pub_hour', 'pub_dow', 'channel_subscriberCount_log1p', 'channel_viewCount_log1p', 'channel_videoCount_log1p', 'title_has_question', 'title_has_exclaim']\n",
            "Positive rate (overall): 0.132\n",
            "Ready text/flags: title, description, tags_text, title_missing, description_missing, has_tags\n",
            "Rows with real tags (not 'no_tags'): 3832\n",
            "Sample tags_text: ['no_tags', 'no_tags', '#ps5live death_stranding_2:_on_the_beach death_stranded_two. playstation_5 sony_interactive_entertainment', 'no_tags', 'a_for_apple abc abcd alphabet baby_rhymes baby_videos cartoon cha_chha_ja_jha cham cham_cham chhamchhamkidstv education for_kids hindi_alphabet hindi_balgeet hindi_varnmala homeschool jj kendrick kids kids_cartoon kids_education kids_learning kids_rhymes kids_songs kids_tv kids_videos kids_videos_for_kids kindergarten nursery_rhymes nursery_rhymes_for_babies phonics phonics_song rhymes rhymes_for_kids ukg videos_for_kids hindi_rhymes हिंदी_वर्णमाला', 'no_tags', 'theprint shekhar_gupta theprint theprint_news theprint_videos theprint_hindi', 'no_tags', 'moneycontrol moneycontrol_news moneycontrol_live', 'function_in_c_class_x_seba_computer_sci_-_add_two_numbers_using_function_in_c_with_explanation_💯 function_in_c_class_x_seba_computer_sci_cs_with_rc cs_with_rc function_in_c class_x_seba_computer_sci programming_in_c class_10_seba_computer_sci introduction_to_loops']\n"
          ]
        }
      ],
      "source": [
        "# ===== 5) LOAD + NORMALIZE TEXT  =====\n",
        "\n",
        "def find_latest_phase2_parquet(phase2_dir: str):\n",
        "    pats = [\n",
        "        os.path.join(phase2_dir, \"ml_table_*.parquet\"),\n",
        "        os.path.join(\"data/processed\", \"phase2_latest.parquet\"),  # optional symlink\n",
        "    ]\n",
        "    cand = []\n",
        "    for pat in pats:\n",
        "        cand.extend(glob.glob(pat))\n",
        "    if not cand:\n",
        "        return None\n",
        "    cand.sort(key=lambda p: os.path.getmtime(p), reverse=True)\n",
        "    return cand[0]\n",
        "\n",
        "# resolve the path\n",
        "if INPUT_PATH is None:\n",
        "    INPUT_PATH = find_latest_phase2_parquet(PHASE2_DIR)\n",
        "\n",
        "assert INPUT_PATH is not None, \"No Phase-2 parquet found. Set INPUT_PATH or put files in data/processed/phase2_prototype/.\"\n",
        "p = Path(INPUT_PATH); assert p.exists(), f\"Input not found: {p}\"\n",
        "\n",
        "# load file\n",
        "if p.suffix.lower() == \".parquet\":\n",
        "    df = pd.read_parquet(p)\n",
        "elif p.suffix.lower() == \".csv\":\n",
        "    df = pd.read_csv(p)\n",
        "else:\n",
        "    raise ValueError(\"INPUT_PATH must be .parquet or .csv\")\n",
        "\n",
        "print(\"Loaded:\", p)\n",
        "print(\"Rows:\", len(df), \"| Cols:\", len(df.columns))\n",
        "print(\"Sample columns:\", list(df.columns)[:20])\n",
        "assert 'viral' in df.columns, \"Phase-2 table must include a 'viral' column.\"\n",
        "print(\"Positive rate (overall):\", round(df['viral'].mean(), 3))\n",
        "\n",
        "# titles / descriptions\n",
        "for col in ['title', 'description']:\n",
        "    if col not in df.columns:\n",
        "        df[col] = ''\n",
        "    df[col] = df[col].fillna('').astype(str)\n",
        "\n",
        "# build/repair tags_text from any available source; override if empty/no_tags-only ---\n",
        "\n",
        "def tags_to_text_any(x):\n",
        "    if pd.isna(x):\n",
        "        return ''\n",
        "    if isinstance(x, (list, tuple)):\n",
        "        toks = [str(t).strip() for t in x if str(t).strip()]\n",
        "        return ' '.join(toks)\n",
        "    s = str(x).strip()\n",
        "    # JSON list stored as string?\n",
        "    if s.startswith('[') and s.endswith(']'):\n",
        "        try:\n",
        "            arr = json.loads(s)\n",
        "            if isinstance(arr, list):\n",
        "                toks = [str(t).strip() for t in arr if str(t).strip()]\n",
        "                return ' '.join(toks)\n",
        "        except Exception:\n",
        "            pass\n",
        "    # fallback: split on commas/whitespace\n",
        "    s = re.sub(r'[\\r\\n\\t]+', ' ', s)\n",
        "    toks = [t.strip() for t in re.split(r'[,\\s]+', s) if t.strip()]\n",
        "    return ' '.join(toks)\n",
        "\n",
        "# if tags_text exists, keep it only if it has any real content\n",
        "has_tags_text = 'tags_text' in df.columns\n",
        "if has_tags_text:\n",
        "    df['tags_text'] = df['tags_text'].fillna('').astype(str).str.strip()\n",
        "    has_real_in_existing = (df['tags_text'].ne('no_tags') & df['tags_text'].ne('')).any()\n",
        "else:\n",
        "    df['tags_text'] = ''\n",
        "    has_real_in_existing = False\n",
        "\n",
        "# if not real, try to rebuild from raw cols \n",
        "if not has_real_in_existing:\n",
        "    rebuilt = False\n",
        "    for cand in ['tags_str', 'tags', 'tags_json']:\n",
        "        if cand in df.columns:\n",
        "            df['tags_text'] = df[cand].apply(tags_to_text_any)\n",
        "            rebuilt = True\n",
        "            break\n",
        "    if not rebuilt:\n",
        "        # nothing available; will fall back to 'no_tags'\n",
        "        pass\n",
        "\n",
        "# final clean + placeholder and numeric flags\n",
        "df['tags_text'] = df['tags_text'].fillna('').astype(str).str.strip()\n",
        "df.loc[df['tags_text'] == '', 'tags_text'] = 'no_tags'\n",
        "\n",
        "#  presence/quality flags \n",
        "df['title_missing'] = (df['title'].str.strip() == '').astype(int)\n",
        "df['description_missing'] = (df['description'].str.strip() == '').astype(int)\n",
        "df['has_tags'] = (df['tags_text'] != 'no_tags').astype(int)\n",
        "df['tags_count'] = df['tags_text'].str.count(r'\\S+')\n",
        "\n",
        "print(\"Ready text/flags: title, description, tags_text, title_missing, description_missing, has_tags\")\n",
        "print(\"Rows with real tags (not 'no_tags'):\", int((df['tags_text'] != 'no_tags').sum()))\n",
        "print(\"Sample tags_text:\", df['tags_text'].head(10).tolist())\n"
      ]
    },
    {
      "cell_type": "code",
      "execution_count": 112,
      "id": "00928ac8",
      "metadata": {
        "colab": {
          "base_uri": "https://localhost:8080/"
        },
        "id": "00928ac8",
        "outputId": "e472f1e6-0344-4ec4-88b8-dc0ab69836c1"
      },
      "outputs": [
        {
          "name": "stdout",
          "output_type": "stream",
          "text": [
            "Train 3668 | Val 524 | Test 1048\n",
            "Pos rate: 0.132 0.132 0.132\n"
          ]
        }
      ],
      "source": [
        "# ===== 6) FEATURE SELECTION & STRATIFIED TRAIN/VAL/TEST SPLIT =====\n",
        "\n",
        "num_cols = [\n",
        "    'duration_log1p','tags_count','title_len_words','title_len_chars','title_caps_ratio',\n",
        "    'title_num_exclaim','title_num_question','desc_len_words','pub_hour','pub_dow',\n",
        "    'channel_subscriberCount_log1p','channel_viewCount_log1p','channel_videoCount_log1p',\n",
        "    'title_missing','description_missing','has_tags','title_has_question','title_has_exclaim',\n",
        "    'title_emoji_count','desc_emoji_count',\n",
        "    'pub_hour_sin','pub_hour_cos' # features from phase 2\n",
        "]\n",
        "cat_cols  = ['categoryId']\n",
        "text_cols = ['title','description','tags_text']\n",
        "\n",
        "use_cols = [c for c in (num_cols + cat_cols + text_cols) if c in df.columns]\n",
        "missing = sorted(set(num_cols + cat_cols + text_cols) - set(use_cols))\n",
        "if missing:\n",
        "    print(\"NOTE: missing expected cols (skipping):\", missing)\n",
        "\n",
        "X = df[use_cols].copy()\n",
        "y = df['viral'].astype(int).values\n",
        "\n",
        "X_train, X_temp, y_train, y_temp = train_test_split(\n",
        "    X, y, test_size=0.30, random_state=RANDOM_STATE, stratify=y\n",
        ")\n",
        "X_val, X_test, y_val, y_test = train_test_split(\n",
        "    X_temp, y_temp, test_size=2/3, random_state=RANDOM_STATE, stratify=y_temp\n",
        ")\n",
        "\n",
        "print(f\"Train {len(X_train)} | Val {len(X_val)} | Test {len(X_test)}\")\n",
        "print(\"Pos rate:\", round(y_train.mean(),3), round(y_val.mean(),3), round(y_test.mean(),3))\n"
      ]
    },
    {
      "cell_type": "code",
      "execution_count": 117,
      "id": "c16dac03",
      "metadata": {
        "colab": {
          "base_uri": "https://localhost:8080/"
        },
        "id": "c16dac03",
        "outputId": "549a4c1c-ea2f-4cab-ea90-503f0307a656"
      },
      "outputs": [
        {
          "name": "stdout",
          "output_type": "stream",
          "text": [
            "`pre` is ready with 7 transformers.\n",
            "Total transformed features: 92578\n",
            "num          -> 22 features from ['duration_log1p', 'tags_count', 'title_len_words', 'title_len_chars', 'title_caps_ratio', 'title_num_exclaim', 'title_num_question', 'desc_len_words', 'pub_hour', 'pub_dow', 'channel_subscriberCount_log1p', 'channel_viewCount_log1p', 'channel_videoCount_log1p', 'title_missing', 'description_missing', 'has_tags', 'title_has_question', 'title_has_exclaim', 'title_emoji_count', 'desc_emoji_count', 'pub_hour_sin', 'pub_hour_cos']\n",
            "cat          -> 16 features from ['categoryId']\n",
            "title        -> 3071 features from title\n",
            "desc         -> 9427 features from description\n",
            "tags         -> 15000 features from tags_text\n",
            "title_char   -> 25042 features from title\n",
            "desc_char    -> 40000 features from description\n"
          ]
        }
      ],
      "source": [
        "# ===== 7) BUILD & AUDIT PREPROCESSING PIPLINE =====\n",
        "\n",
        "if 'tags_text' in X_train.columns:\n",
        "    X_train.loc[:, 'tags_text'] = (\n",
        "        X_train['tags_text'].fillna('').astype(str).str.strip().replace('', 'no_tags')\n",
        "    )\n",
        "\n",
        "# Adaptive min_df to avoid \"empty vocabulary\" on small datasets\n",
        "N = max(1, len(X_train))\n",
        "TITLE_TFIDF_MAX_FEATURES = globals().get('TITLE_TFIDF_MAX_FEATURES', 30000)\n",
        "DESC_TFIDF_MAX_FEATURES  = globals().get('DESC_TFIDF_MAX_FEATURES',  40000)\n",
        "TAGS_TFIDF_MAX_FEATURES  = globals().get('TAGS_TFIDF_MAX_FEATURES',  15000)\n",
        "TITLE_TFIDF_NGRAM = globals().get('TITLE_TFIDF_NGRAM', (1,2))\n",
        "DESC_TFIDF_NGRAM  = globals().get('DESC_TFIDF_NGRAM',  (1,2))\n",
        "TITLE_TFIDF_MIN_DF = max(1, int(0.001 * N))\n",
        "DESC_TFIDF_MIN_DF  = max(1, int(0.002 * N))\n",
        "TAGS_TFIDF_MIN_DF  = 1\n",
        "\n",
        "def _has_nonempty_text(colname: str) -> bool:\n",
        "    if colname not in X_train.columns:\n",
        "        return False\n",
        "    s = X_train[colname].astype(str).fillna('')\n",
        "    nonempty = (s.str.replace(r'\\W+',' ', regex=True).str.strip().str.len() > 0).sum()\n",
        "    return nonempty > 0\n",
        "\n",
        "# numeric / categorical\n",
        "num_exist = [c for c in num_cols if c in X.columns]\n",
        "cat_exist = [c for c in cat_cols if c in X.columns]\n",
        "\n",
        "num_pipe = Pipeline([('imputer', SimpleImputer(strategy='median')),\n",
        "                     ('scaler',  StandardScaler(with_mean=False))]) if num_exist else None\n",
        "cat_pipe = OneHotEncoder(handle_unknown='ignore') if cat_exist else None\n",
        "\n",
        "transformers = []\n",
        "if num_pipe is not None: transformers.append(('num', num_pipe, num_exist))\n",
        "if cat_pipe is not None: transformers.append(('cat', cat_pipe, cat_exist))\n",
        "\n",
        "# title TF-IDF\n",
        "if _has_nonempty_text('title'):\n",
        "    transformers.append(('title', TfidfVectorizer(\n",
        "        max_features=TITLE_TFIDF_MAX_FEATURES, ngram_range=TITLE_TFIDF_NGRAM,\n",
        "        min_df=TITLE_TFIDF_MIN_DF, stop_words='english', sublinear_tf=True, strip_accents='unicode'\n",
        "    ), 'title'))\n",
        "else:\n",
        "    print(\"SKIP title TF-IDF: no non-empty docs in train\")\n",
        "\n",
        "# description TF-IDF\n",
        "if _has_nonempty_text('description'):\n",
        "    transformers.append(('desc', TfidfVectorizer(\n",
        "        max_features=DESC_TFIDF_MAX_FEATURES, ngram_range=DESC_TFIDF_NGRAM,\n",
        "        min_df=DESC_TFIDF_MIN_DF, stop_words='english', sublinear_tf=True, strip_accents='unicode'\n",
        "    ), 'description'))\n",
        "else:\n",
        "    print(\"SKIP description TF-IDF: no non-empty docs in train\")\n",
        "\n",
        "# tags TF-IDF (force include; normalized empties to 'no_tags')\n",
        "transformers.append(('tags', TfidfVectorizer(\n",
        "    max_features=TAGS_TFIDF_MAX_FEATURES,\n",
        "    min_df=1,                  # don't prune on small folds\n",
        "    lowercase=True,\n",
        "    sublinear_tf=True,\n",
        "    token_pattern=r'[^,\\s]+',  # split on commas/whitespace\n",
        "    stop_words=None,\n",
        "    binary=True                # presence/absence\n",
        "), 'tags_text'))\n",
        "\n",
        "\n",
        "# add char-ngrams to boost precision on punctuation/emojis\n",
        "if 'title' in X.columns and _has_nonempty_text('title'):\n",
        "    transformers.append(('title_char', TfidfVectorizer(\n",
        "        analyzer='char', ngram_range=(3,5), min_df=5, max_features=30000, sublinear_tf=True\n",
        "    ), 'title'))\n",
        "if 'description' in X.columns and _has_nonempty_text('description'):\n",
        "    transformers.append(('desc_char', TfidfVectorizer(\n",
        "        analyzer='char', ngram_range=(3,5), min_df=5, max_features=40000, sublinear_tf=True\n",
        "    ), 'description'))\n",
        "\n",
        "pre = ColumnTransformer(transformers, remainder='drop', sparse_threshold=1.0)\n",
        "print(\"`pre` is ready with\", len(transformers), \"transformers.\")\n",
        "\n",
        "\n",
        "def transformer_summary(pre):\n",
        "    names = []\n",
        "    sizes = []\n",
        "    try:\n",
        "        fn = pre.get_feature_names_out()\n",
        "        names = list(fn)\n",
        "        sizes = None\n",
        "    except Exception:\n",
        "        # fall back: estimate by sub-transformers\n",
        "        for name, trans, cols in pre.transformers_:\n",
        "            if name == 'remainder':\n",
        "                continue\n",
        "            if hasattr(trans, 'get_feature_names_out'):\n",
        "                try:\n",
        "                    k = len(trans.get_feature_names_out(cols if isinstance(cols, list) else None))\n",
        "                except:\n",
        "                    k = -1\n",
        "            elif hasattr(trans, 'categories_'):  # OneHotEncoder\n",
        "                k = sum(len(c) for c in trans.categories_)\n",
        "            else:\n",
        "                k = len(cols) if hasattr(cols, '__len__') else -1\n",
        "            print(f\"{name:12s} -> {k} features from {cols}\")\n",
        "        return\n",
        "\n",
        "    # if names are flattened, also show per-block counts\n",
        "    print(f\"Total transformed features: {len(names)}\")\n",
        "    for name, trans, cols in pre.transformers_:\n",
        "        if name == 'remainder':\n",
        "            continue\n",
        "        mask = [n.startswith(name + \"__\") for n in names]\n",
        "        print(f\"{name:12s} -> {int(np.sum(mask))} features from {cols}\")\n",
        "\n",
        "pre_fitted = pre.fit(X_train, y_train) \n",
        "transformer_summary(pre_fitted)\n",
        "\n",
        "\n",
        "\n"
      ]
    },
    {
      "cell_type": "code",
      "execution_count": 119,
      "id": "gqcqMRK5Vss_",
      "metadata": {
        "colab": {
          "base_uri": "https://localhost:8080/"
        },
        "id": "gqcqMRK5Vss_",
        "outputId": "4df5faca-ec51-48fa-ec5b-695f3743131b"
      },
      "outputs": [
        {
          "name": "stdout",
          "output_type": "stream",
          "text": [
            "ALL data, has real tags: 3832\n",
            "TRAIN,   has real tags: 2683\n",
            "['politics_monday political_analysis politics news politics_news charlie_kirk charlie_kirk_assassination charlie_kirk_murder utah_valley free_speach right_wing_media cancel_culture jd_vance trump trump_administration charlie_kirk_celebration mourning_charlie_kirk pbs pbs_news', 'abc abc_songs learning_songs phonic_songs nursery rehymes kids_songs a_for_apple abcd kids_song learningsong phonic_song abcdefg b_for_baloon abc_learning_songs pre_school preschool_songs nurseryrhymes\\u200b musicforkids\\u200b childrensmusic\\u200b abcdsong', 'yo_soy_aranza aranza aranza_merlin merlin team conny emma prima bromas la_espio hermana mama papa familia yadeli respeto bris_merlin michelle_merlin michi patita', 'imperador_da_nação_react reações_dos_rivais reações_dos_rivais_-_fla_2_(6x5)_2_barcelona reacoes_mengo_2x2_barcelona vamos_rir_barcelona_2_(5x6)_2_flamengo react_do_rival imprensa_carioca_flamengo imprensa_espanhola midia_esportiva_paulista vamos_rir vamos_rir_reações_dos_secadores reações_palmeirenses rivais_reações react reações vamos_rir_reação_dos_rivais vamos_rir_barcelona_tv reações_fluminense reações_vascaínas reações_dos_secadores reação_do_secadores', 'canal_da_belinha belinha vinibug mini_bug vini_burguer canal_do_vini roblox novo_escape escape_roblox parkour_roblox parkour funny game jogo games jogos belinha_games obby_roblox arlequina coringa escape_obby roblox_escape brookhaven palhaço_darkweb batatinha_frita_123 emilly stitch minha_ex_namorada_me_beijou_no_jogo_da_belinha_e_a_lua_ficou_muito_irritada!(belinha_vs_zara_roblox) zara zara zara_vs_belinha jogo_da_belinha', 'bureau_report china china_news donald_trump english_news english_news_live foreign_policy geopolitics india_news_live india_today india_today_live india_today_news india_united_states_relations india-mrs.5_ties indian_news_live indo-pacific international_relations ministry_of_external_affairs narendra_modi peter_navarro s_jaishankar strategic_partnership tariffs top_news world_news', 'nicolly emanuelly eu_voce_e_nos euvoceenos videos_engraçados videos_divertidos gemeas cabelo_vermelho cabelo_azul irmas gemeos dolls', 'tennis tennischannel tennis_channel atp atp_tour tennis_tv tennis_highlights tennis_videos best_tennis_videos atp_tennis_videos tennis_live tennis_streams tennis_streaming atp_streams best_tennis_shots tennis_interview wta_tennis tennis_press_conference', 'veg_manchurian_recipe veg_fried_rice indo_chinese_food street_style_veg_manchurian restaurant_style_fried_rice homemade_manchurian fried_rice_recipe indian_chinese_food veg_recipes chinese_fried_rice quick_dinner_recipe easy_manchurian_recipe vegetarian_chinese healthy_fried_rice indian_veg_recipes delicious_manchurian spicy_fried_rice asian_recipes cooking_video kitchen_recipes food_vlog tasty_veg_recipes chinese_cuisine homemade_fried_rice', 'terço_do_combate hesed_ao_vivo ir_luis_maria']\n",
            "tags_text in X_train? -> True\n",
            "Non-empty tags_text rows in TRAIN: 3668\n",
            "Sample tags_text values: ['no_tags', 'politics_monday political_analysis politics news politics_news charlie_kirk charlie_kirk_assassination charlie_kirk_murder utah_valley free_speach right_wing_media cancel_culture jd_vance trump trump_administration charlie_kirk_celebration mourning_charlie_kirk pbs pbs_news', 'no_tags', 'abc abc_songs learning_songs phonic_songs nursery rehymes kids_songs a_for_apple abcd kids_song learningsong phonic_song abcdefg b_for_baloon abc_learning_songs pre_school preschool_songs nurseryrhymes\\u200b musicforkids\\u200b childrensmusic\\u200b abcdsong', 'yo_soy_aranza aranza aranza_merlin merlin team conny emma prima bromas la_espio hermana mama papa familia yadeli respeto bris_merlin michelle_merlin michi patita']\n",
            "text_cols: ['title', 'description', 'tags_text']\n",
            "X_train columns sample: ['duration_log1p', 'tags_count', 'title_len_words', 'title_len_chars', 'title_caps_ratio', 'title_num_exclaim', 'title_num_question', 'desc_len_words', 'pub_hour', 'pub_dow', 'channel_subscriberCount_log1p', 'channel_viewCount_log1p', 'channel_videoCount_log1p', 'title_missing', 'description_missing', 'has_tags', 'title_has_question', 'title_has_exclaim', 'title_emoji_count', 'desc_emoji_count', 'pub_hour_sin', 'pub_hour_cos', 'categoryId', 'title', 'description', 'tags_text']\n"
          ]
        }
      ],
      "source": [
        "# ===== 8) TAG FIELD SANITY CHECKS (COUNTS + SAMPLES) =====\n",
        "\n",
        "# how many rows with actual tags (not 'no_tags')?\n",
        "print(\"ALL data, has real tags:\", (df['tags_text'] != 'no_tags').sum())\n",
        "print(\"TRAIN,   has real tags:\", (X_train['tags_text'] != 'no_tags').sum())\n",
        "\n",
        "# peek a few examples from TRAIN that have real tags (out of curiosity)\n",
        "print(X_train.loc[X_train['tags_text']!='no_tags', 'tags_text'].head(10).tolist())\n",
        "\n",
        "print(\"tags_text in X_train? ->\", 'tags_text' in X_train.columns)\n",
        "if 'tags_text' in X_train.columns:\n",
        "    print(\"Non-empty tags_text rows in TRAIN:\", (X_train['tags_text'].astype(str).str.strip() != '').sum())\n",
        "    print(\"Sample tags_text values:\", X_train['tags_text'].head(5).tolist())\n",
        "\n",
        "print(\"text_cols:\", text_cols)\n",
        "print(\"X_train columns sample:\", list(X_train.columns)[:30])\n"
      ]
    },
    {
      "cell_type": "code",
      "execution_count": null,
      "id": "nCvDKaSEVyBF",
      "metadata": {
        "colab": {
          "base_uri": "https://localhost:8080/"
        },
        "id": "nCvDKaSEVyBF",
        "outputId": "701cbd8e-9948-4d67-ffe5-bbb5a2db5543"
      },
      "outputs": [
        {
          "name": "stdout",
          "output_type": "stream",
          "text": [
            "Shapes: (3668, 92578) (524, 92578) (1048, 92578)\n",
            "Sparse? True True True\n"
          ]
        },
        {
          "data": {
            "text/plain": [
              "['models/preprocess_phase3.joblib']"
            ]
          },
          "execution_count": 120,
          "metadata": {},
          "output_type": "execute_result"
        }
      ],
      "source": [
        "# ===== 9) FIT PREPROCESSOR ON TRAIN, TRANSFORM SPLITS, CACHE ARTIFACT =====\n",
        "# create the models directory if it doesn't exist\n",
        "os.makedirs('models', exist_ok=True)\n",
        "\n",
        "pre_fitted = pre.fit(X_train, y_train)        # pre was defined in your preprocessor cell\n",
        "Xt_train = pre_fitted.transform(X_train)\n",
        "Xt_val   = pre_fitted.transform(X_val)\n",
        "Xt_test  = pre_fitted.transform(X_test)\n",
        "\n",
        "print(\"Shapes:\", Xt_train.shape, Xt_val.shape, Xt_test.shape)\n",
        "print(\"Sparse?\", sparse.issparse(Xt_train), sparse.issparse(Xt_val), sparse.issparse(Xt_test))\n",
        "\n",
        "# save to reuse later without refitting\n",
        "joblib.dump(pre_fitted, \"models/preprocess_phase3.joblib\")"
      ]
    },
    {
      "cell_type": "code",
      "execution_count": null,
      "id": "AY26tmAiVztc",
      "metadata": {
        "id": "AY26tmAiVztc"
      },
      "outputs": [
        {
          "name": "stderr",
          "output_type": "stream",
          "text": [
            "/Users/asmitabisht/Desktop/repo/.venv/lib/python3.9/site-packages/sklearn/utils/extmath.py:547: RuntimeWarning: divide by zero encountered in matmul\n",
            "  U = Q @ Uhat\n",
            "/Users/asmitabisht/Desktop/repo/.venv/lib/python3.9/site-packages/sklearn/utils/extmath.py:547: RuntimeWarning: overflow encountered in matmul\n",
            "  U = Q @ Uhat\n",
            "/Users/asmitabisht/Desktop/repo/.venv/lib/python3.9/site-packages/sklearn/utils/extmath.py:547: RuntimeWarning: invalid value encountered in matmul\n",
            "  U = Q @ Uhat\n"
          ]
        }
      ],
      "source": [
        "# ===== 10) DIMENSIONALITY REDUCTION FOR TREE MODELS (TruncatedSVD) =====\n",
        "svd_components = 200  # 200–400 typical\n",
        "svd = TruncatedSVD(n_components=svd_components, n_iter=7, random_state=42)  \n",
        "\n",
        "Xt_train_svd = svd.fit_transform(Xt_train)\n",
        "Xt_val_svd   = svd.transform(Xt_val)\n",
        "Xt_test_svd  = svd.transform(Xt_test)\n",
        "\n",
        "# clean any tiny NaNs/Infs if upstream had degenerate terms\n",
        "for M in (Xt_train_svd, Xt_val_svd, Xt_test_svd):\n",
        "    np.nan_to_num(M, copy=False, posinf=1e6, neginf=-1e6)\n"
      ]
    },
    {
      "cell_type": "code",
      "execution_count": 123,
      "id": "jydmNLReV1Ni",
      "metadata": {
        "colab": {
          "base_uri": "https://localhost:8080/"
        },
        "id": "jydmNLReV1Ni",
        "outputId": "1b56183c-3d24-4fe9-c311-a99dedb99ab7"
      },
      "outputs": [],
      "source": [
        "# ===== ADDITIONAL HELPERS FOR MODELS =====\n",
        "def summarize_probs(name, p_val, p_test, y_val, y_test):\n",
        "    k = max(1, int(len(p_val) * TOP_FRAC))\n",
        "    thr = np.partition(p_val, -k)[-k]\n",
        "    pred_top = (p_test >= thr).astype(int)\n",
        "\n",
        "    pr_auc  = average_precision_score(y_test, p_test)\n",
        "    roc_auc = roc_auc_score(y_test, p_test)\n",
        "    brier   = brier_score_loss(y_test, p_test)\n",
        "    prec    = precision_score(y_test, pred_top)\n",
        "    rec     = recall_score(y_test, pred_top)\n",
        "    base    = y_test.mean()\n",
        "    lift    = prec / base if base > 0 else float('nan')\n",
        "\n",
        "    print(f\"[{name}] PR-AUC={pr_auc:.4f}  ROC-AUC={roc_auc:.4f}  Brier={brier:.4f}\")\n",
        "    print(f\"[{name}] thr(val top {int(TOP_FRAC*100)}%)={thr:.4f}  precision@{int(TOP_FRAC*100)}%={prec:.3f}  recall@{int(TOP_FRAC*100)}%={rec:.3f}  lift={lift:.2f}x\")\n",
        "    return dict(model=name, pr_auc=pr_auc, roc_auc=roc_auc, brier=brier, thr=thr, prec_top=prec, rec_top=rec, lift=lift)\n",
        "\n",
        "def calibrate_and_score(name, clf, X_train_, y_train_, X_val_, y_val_, X_test_, y_test_):\n",
        "    # fit, then isotonic calibrate using val\n",
        "    clf.fit(X_train_, y_train_)\n",
        "    p_val_raw  = clf.predict_proba(X_val_)[:,1]\n",
        "    p_test_raw = clf.predict_proba(X_test_)[:,1]\n",
        "\n",
        "    calib = CalibratedClassifierCV(clf, method='isotonic', cv='prefit')\n",
        "    calib.fit(X_val_, y_val_)\n",
        "    p_val  = calib.predict_proba(X_val_)[:,1]\n",
        "    p_test = calib.predict_proba(X_test_)[:,1]\n",
        "\n",
        "    metrics = summarize_probs(name, p_val, p_test, y_val_, y_test_)\n",
        "    metrics['calibrated'] = True\n",
        "    return calib, metrics"
      ]
    },
    {
      "cell_type": "code",
      "execution_count": null,
      "id": "pB_rVfDvV3Ms",
      "metadata": {
        "colab": {
          "base_uri": "https://localhost:8080/"
        },
        "id": "pB_rVfDvV3Ms",
        "outputId": "024faef5-fd41-4b6b-f02a-48b7a88b5e50"
      },
      "outputs": [
        {
          "name": "stdout",
          "output_type": "stream",
          "text": [
            "[LR] PR-AUC=0.4451  ROC-AUC=0.8434  Brier=0.0887\n",
            "[LR] thr(val top 10%)=0.3333  precision@10%=0.490  recall@10%=0.507  lift=3.72x\n"
          ]
        },
        {
          "name": "stderr",
          "output_type": "stream",
          "text": [
            "/Users/asmitabisht/Desktop/repo/.venv/lib/python3.9/site-packages/sklearn/calibration.py:333: UserWarning: The `cv='prefit'` option is deprecated in 1.6 and will be removed in 1.8. You can use CalibratedClassifierCV(FrozenEstimator(estimator)) instead.\n",
            "  warnings.warn(\n"
          ]
        }
      ],
      "source": [
        "# ===== 11) LR → CALIBRATE (val) → SCORE (test) =====\n",
        "lr = LogisticRegression(\n",
        "    solver='saga', penalty='l2', C=1.0, max_iter=3000,\n",
        "    class_weight='balanced', n_jobs=-1, random_state=42\n",
        ")\n",
        "lr_cal, lr_metrics = calibrate_and_score(\"LR\", lr, Xt_train, y_train, Xt_val, y_val, Xt_test, y_test)\n"
      ]
    },
    {
      "cell_type": "code",
      "execution_count": null,
      "id": "sBrjT0JkFspd",
      "metadata": {
        "colab": {
          "base_uri": "https://localhost:8080/"
        },
        "id": "sBrjT0JkFspd",
        "outputId": "9e3b9a2c-e865-49a0-d3ba-856444f3b114"
      },
      "outputs": [
        {
          "name": "stderr",
          "output_type": "stream",
          "text": [
            "/Users/asmitabisht/Desktop/repo/.venv/lib/python3.9/site-packages/sklearn/calibration.py:333: UserWarning: The `cv='prefit'` option is deprecated in 1.6 and will be removed in 1.8. You can use CalibratedClassifierCV(FrozenEstimator(estimator)) instead.\n",
            "  warnings.warn(\n"
          ]
        },
        {
          "name": "stdout",
          "output_type": "stream",
          "text": [
            "[RF] PR-AUC=0.3896  ROC-AUC=0.8222  Brier=0.0922\n",
            "[RF] thr(val top 10%)=0.3000  precision@10%=0.421  recall@10%=0.486  lift=3.20x\n",
            "[DT] PR-AUC=0.2136  ROC-AUC=0.6730  Brier=0.1105\n",
            "[DT] thr(val top 10%)=0.2667  precision@10%=0.233  recall@10%=0.225  lift=1.77x\n"
          ]
        },
        {
          "name": "stderr",
          "output_type": "stream",
          "text": [
            "/Users/asmitabisht/Desktop/repo/.venv/lib/python3.9/site-packages/sklearn/calibration.py:333: UserWarning: The `cv='prefit'` option is deprecated in 1.6 and will be removed in 1.8. You can use CalibratedClassifierCV(FrozenEstimator(estimator)) instead.\n",
            "  warnings.warn(\n"
          ]
        }
      ],
      "source": [
        "# ===== 12) RF/DT (SVD) → CALIBRATE → SCORE =====\n",
        "# RandomForest on SVD features\n",
        "rf = RandomForestClassifier(\n",
        "    n_estimators=800,          \n",
        "    max_depth=None,\n",
        "    min_samples_leaf=1,\n",
        "    n_jobs=-1,\n",
        "    random_state=42,\n",
        "    class_weight='balanced_subsample'\n",
        ")\n",
        "rf_cal, rf_metrics = calibrate_and_score(\n",
        "    \"RF\", rf,\n",
        "    Xt_train_svd, y_train,\n",
        "    Xt_val_svd, y_val,\n",
        "    Xt_test_svd, y_test\n",
        " \n",
        ")\n",
        "\n",
        "# DecisionTree on SVD features\n",
        "dt = DecisionTreeClassifier(\n",
        "    max_depth=40,             \n",
        "    min_samples_leaf=50,      # helps generalization\n",
        "    random_state=42,\n",
        "    class_weight='balanced'\n",
        ")\n",
        "dt_cal, dt_metrics = calibrate_and_score(\n",
        "    \"DT\", dt,\n",
        "    Xt_train_svd, y_train,\n",
        "    Xt_val_svd, y_val,\n",
        "    Xt_test_svd, y_test\n",
        "   \n",
        ")"
      ]
    },
    {
      "cell_type": "code",
      "execution_count": null,
      "id": "r15QWe69V453",
      "metadata": {
        "colab": {
          "base_uri": "https://localhost:8080/"
        },
        "id": "r15QWe69V453",
        "outputId": "44662f92-033c-4334-de51-3b9e167b4f81"
      },
      "outputs": [
        {
          "name": "stdout",
          "output_type": "stream",
          "text": [
            "[LightGBM] [Info] Number of positive: 483, number of negative: 3185\n",
            "[LightGBM] [Info] Auto-choosing col-wise multi-threading, the overhead of testing was 2.417057 seconds.\n",
            "You can set `force_col_wise=true` to remove the overhead.\n",
            "[LightGBM] [Info] Total Bins 1417912\n",
            "[LightGBM] [Info] Number of data points in the train set: 3668, number of used features: 46281\n",
            "[LightGBM] [Info] [binary:BoostFromScore]: pavg=0.131679 -> initscore=-1.886191\n",
            "[LightGBM] [Info] Start training from score -1.886191\n"
          ]
        },
        {
          "name": "stderr",
          "output_type": "stream",
          "text": [
            "/Users/asmitabisht/Desktop/repo/.venv/lib/python3.9/site-packages/sklearn/utils/validation.py:2739: UserWarning: X does not have valid feature names, but LGBMClassifier was fitted with feature names\n",
            "  warnings.warn(\n",
            "/Users/asmitabisht/Desktop/repo/.venv/lib/python3.9/site-packages/sklearn/calibration.py:333: UserWarning: The `cv='prefit'` option is deprecated in 1.6 and will be removed in 1.8. You can use CalibratedClassifierCV(FrozenEstimator(estimator)) instead.\n",
            "  warnings.warn(\n",
            "/Users/asmitabisht/Desktop/repo/.venv/lib/python3.9/site-packages/sklearn/utils/validation.py:2739: UserWarning: X does not have valid feature names, but LGBMClassifier was fitted with feature names\n",
            "  warnings.warn(\n"
          ]
        },
        {
          "name": "stdout",
          "output_type": "stream",
          "text": [
            "[LGBM] PR-AUC=0.4022  ROC-AUC=0.7852  Brier=0.0935\n",
            "[LGBM] thr(val top 10%)=0.3333  precision@10%=0.451  recall@10%=0.471  lift=3.43x\n"
          ]
        },
        {
          "name": "stderr",
          "output_type": "stream",
          "text": [
            "/Users/asmitabisht/Desktop/repo/.venv/lib/python3.9/site-packages/sklearn/utils/validation.py:2739: UserWarning: X does not have valid feature names, but LGBMClassifier was fitted with feature names\n",
            "  warnings.warn(\n",
            "/Users/asmitabisht/Desktop/repo/.venv/lib/python3.9/site-packages/sklearn/utils/validation.py:2739: UserWarning: X does not have valid feature names, but LGBMClassifier was fitted with feature names\n",
            "  warnings.warn(\n"
          ]
        }
      ],
      "source": [
        "# ===== 13) LGBM → CALIBRATE → SCORE =====\n",
        "\n",
        "pos_rate = y_train.mean()\n",
        "scale_pos_weight = (1 - pos_rate) / pos_rate if pos_rate > 0 else 1.0\n",
        "\n",
        "lgbm = LGBMClassifier(\n",
        "    n_estimators=1200, learning_rate=0.03, num_leaves=63,\n",
        "    subsample=0.9, colsample_bytree=0.9,\n",
        "    reg_alpha=0.0, reg_lambda=1.0,\n",
        "    objective='binary', random_state=42, n_jobs=-1,\n",
        "    scale_pos_weight=scale_pos_weight\n",
        ")\n",
        "lgbm_cal, lgbm_metrics = calibrate_and_score(\"LGBM\", lgbm, Xt_train, y_train, Xt_val, y_val, Xt_test, y_test)\n"
      ]
    },
    {
      "cell_type": "code",
      "execution_count": 127,
      "id": "In6Q1JIDV6NY",
      "metadata": {
        "colab": {
          "base_uri": "https://localhost:8080/"
        },
        "id": "In6Q1JIDV6NY",
        "outputId": "4653e151-2d47-44ae-bc92-8f77f9c5299e"
      },
      "outputs": [
        {
          "name": "stdout",
          "output_type": "stream",
          "text": [
            "[XGB] PR-AUC=0.3856  ROC-AUC=0.7887  Brier=0.0951\n",
            "[XGB] thr(val top 10%)=0.4783  precision@10%=0.491  recall@10%=0.413  lift=3.73x\n"
          ]
        },
        {
          "name": "stderr",
          "output_type": "stream",
          "text": [
            "/Users/asmitabisht/Desktop/repo/.venv/lib/python3.9/site-packages/sklearn/calibration.py:333: UserWarning: The `cv='prefit'` option is deprecated in 1.6 and will be removed in 1.8. You can use CalibratedClassifierCV(FrozenEstimator(estimator)) instead.\n",
            "  warnings.warn(\n"
          ]
        }
      ],
      "source": [
        "# ===== 14) XGB → CALIBRATE → SCORE =====\n",
        "\n",
        "xgb = XGBClassifier(\n",
        "    n_estimators=800, max_depth=6, learning_rate=0.05,\n",
        "    subsample=0.9, colsample_bytree=0.9,\n",
        "    reg_lambda=1.0, n_jobs=-1, random_state=42,\n",
        "    eval_metric='logloss', tree_method='hist'  \n",
        ")\n",
        "xgb_cal, xgb_metrics = calibrate_and_score(\"XGB\", xgb, Xt_train, y_train, Xt_val, y_val, Xt_test, y_test)"
      ]
    },
    {
      "cell_type": "code",
      "execution_count": null,
      "id": "q_REfZ11V7qs",
      "metadata": {
        "colab": {
          "base_uri": "https://localhost:8080/"
        },
        "id": "q_REfZ11V7qs",
        "outputId": "e00ad23e-c8e0-480e-c4a2-8fbbf3602afa"
      },
      "outputs": [
        {
          "name": "stdout",
          "output_type": "stream",
          "text": [
            "[ET] PR-AUC=0.3918  ROC-AUC=0.8202  Brier=0.0937\n",
            "[ET] thr(val top 10%)=0.4375  precision@10%=0.449  recall@10%=0.478  lift=3.41x\n"
          ]
        },
        {
          "name": "stderr",
          "output_type": "stream",
          "text": [
            "/Users/asmitabisht/Desktop/repo/.venv/lib/python3.9/site-packages/sklearn/calibration.py:333: UserWarning: The `cv='prefit'` option is deprecated in 1.6 and will be removed in 1.8. You can use CalibratedClassifierCV(FrozenEstimator(estimator)) instead.\n",
            "  warnings.warn(\n"
          ]
        }
      ],
      "source": [
        "# ===== 15) ExtraTrees (SVD) → CALIBRATE → SCORE =====\n",
        "\n",
        "et = ExtraTreesClassifier(\n",
        "    n_estimators=600, n_jobs=-1, random_state=42,\n",
        "    class_weight='balanced'\n",
        ")\n",
        "et_cal, et_metrics = calibrate_and_score(\"ET\", et, Xt_train_svd, y_train, Xt_val_svd, y_val, Xt_test_svd, y_test)\n"
      ]
    },
    {
      "cell_type": "code",
      "execution_count": 97,
      "id": "jDfcQz49V86q",
      "metadata": {
        "colab": {
          "base_uri": "https://localhost:8080/",
          "height": 173
        },
        "id": "jDfcQz49V86q",
        "outputId": "e8a7f96a-74ad-410b-d52d-59507037abfd"
      },
      "outputs": [
        {
          "data": {
            "text/html": [
              "<div>\n",
              "<style scoped>\n",
              "    .dataframe tbody tr th:only-of-type {\n",
              "        vertical-align: middle;\n",
              "    }\n",
              "\n",
              "    .dataframe tbody tr th {\n",
              "        vertical-align: top;\n",
              "    }\n",
              "\n",
              "    .dataframe thead th {\n",
              "        text-align: right;\n",
              "    }\n",
              "</style>\n",
              "<table border=\"1\" class=\"dataframe\">\n",
              "  <thead>\n",
              "    <tr style=\"text-align: right;\">\n",
              "      <th></th>\n",
              "      <th>model</th>\n",
              "      <th>pr_auc</th>\n",
              "      <th>roc_auc</th>\n",
              "      <th>brier</th>\n",
              "      <th>thr</th>\n",
              "      <th>prec_top</th>\n",
              "      <th>rec_top</th>\n",
              "      <th>lift</th>\n",
              "      <th>calibrated</th>\n",
              "    </tr>\n",
              "  </thead>\n",
              "  <tbody>\n",
              "    <tr>\n",
              "      <th>0</th>\n",
              "      <td>LR</td>\n",
              "      <td>0.445096</td>\n",
              "      <td>0.843375</td>\n",
              "      <td>0.088688</td>\n",
              "      <td>0.333333</td>\n",
              "      <td>0.489510</td>\n",
              "      <td>0.507246</td>\n",
              "      <td>3.717442</td>\n",
              "      <td>True</td>\n",
              "    </tr>\n",
              "    <tr>\n",
              "      <th>1</th>\n",
              "      <td>LGBM</td>\n",
              "      <td>0.402231</td>\n",
              "      <td>0.785225</td>\n",
              "      <td>0.093462</td>\n",
              "      <td>0.333333</td>\n",
              "      <td>0.451389</td>\n",
              "      <td>0.471014</td>\n",
              "      <td>3.427939</td>\n",
              "      <td>True</td>\n",
              "    </tr>\n",
              "    <tr>\n",
              "      <th>3</th>\n",
              "      <td>ET</td>\n",
              "      <td>0.391795</td>\n",
              "      <td>0.820206</td>\n",
              "      <td>0.093695</td>\n",
              "      <td>0.437500</td>\n",
              "      <td>0.448980</td>\n",
              "      <td>0.478261</td>\n",
              "      <td>3.409642</td>\n",
              "      <td>True</td>\n",
              "    </tr>\n",
              "    <tr>\n",
              "      <th>2</th>\n",
              "      <td>XGB</td>\n",
              "      <td>0.385579</td>\n",
              "      <td>0.788653</td>\n",
              "      <td>0.095058</td>\n",
              "      <td>0.478261</td>\n",
              "      <td>0.491379</td>\n",
              "      <td>0.413043</td>\n",
              "      <td>3.731634</td>\n",
              "      <td>True</td>\n",
              "    </tr>\n",
              "  </tbody>\n",
              "</table>\n",
              "</div>"
            ],
            "text/plain": [
              "  model    pr_auc   roc_auc     brier       thr  prec_top   rec_top      lift  \\\n",
              "0    LR  0.445096  0.843375  0.088688  0.333333  0.489510  0.507246  3.717442   \n",
              "1  LGBM  0.402231  0.785225  0.093462  0.333333  0.451389  0.471014  3.427939   \n",
              "3    ET  0.391795  0.820206  0.093695  0.437500  0.448980  0.478261  3.409642   \n",
              "2   XGB  0.385579  0.788653  0.095058  0.478261  0.491379  0.413043  3.731634   \n",
              "\n",
              "   calibrated  \n",
              "0        True  \n",
              "1        True  \n",
              "3        True  \n",
              "2        True  "
            ]
          },
          "execution_count": 97,
          "metadata": {},
          "output_type": "execute_result"
        }
      ],
      "source": [
        "# ===== 16) MODEL LEADERBOARD (SORTED BY PR-AUC) =====\n",
        "rows = [lr_metrics, lgbm_metrics, xgb_metrics, et_metrics] # Removed rf_metrics\n",
        "comp = pd.DataFrame(rows).sort_values('pr_auc', ascending=False)\n",
        "comp"
      ]
    },
    {
      "cell_type": "code",
      "execution_count": 128,
      "id": "ymFaA3ITIvhm",
      "metadata": {
        "colab": {
          "base_uri": "https://localhost:8080/",
          "height": 357
        },
        "id": "ymFaA3ITIvhm",
        "outputId": "fca73ea7-ee0e-4e27-c421-daadd2bc33b5"
      },
      "outputs": [
        {
          "name": "stdout",
          "output_type": "stream",
          "text": [
            "Top candidates: ['LR', 'LGBM', 'ET']\n"
          ]
        },
        {
          "name": "stderr",
          "output_type": "stream",
          "text": [
            "/Users/asmitabisht/Desktop/repo/.venv/lib/python3.9/site-packages/sklearn/utils/validation.py:2739: UserWarning: X does not have valid feature names, but LGBMClassifier was fitted with feature names\n",
            "  warnings.warn(\n",
            "/Users/asmitabisht/Desktop/repo/.venv/lib/python3.9/site-packages/sklearn/utils/validation.py:2739: UserWarning: X does not have valid feature names, but LGBMClassifier was fitted with feature names\n",
            "  warnings.warn(\n"
          ]
        },
        {
          "data": {
            "text/html": [
              "<div>\n",
              "<style scoped>\n",
              "    .dataframe tbody tr th:only-of-type {\n",
              "        vertical-align: middle;\n",
              "    }\n",
              "\n",
              "    .dataframe tbody tr th {\n",
              "        vertical-align: top;\n",
              "    }\n",
              "\n",
              "    .dataframe thead th {\n",
              "        text-align: right;\n",
              "    }\n",
              "</style>\n",
              "<table border=\"1\" class=\"dataframe\">\n",
              "  <thead>\n",
              "    <tr style=\"text-align: right;\">\n",
              "      <th></th>\n",
              "      <th>model</th>\n",
              "      <th>pr_auc</th>\n",
              "      <th>roc_auc</th>\n",
              "      <th>brier</th>\n",
              "      <th>thr</th>\n",
              "      <th>prec_top</th>\n",
              "      <th>rec_top</th>\n",
              "      <th>lift</th>\n",
              "      <th>calibrated</th>\n",
              "      <th>test_pr_auc</th>\n",
              "      <th>test_roc_auc</th>\n",
              "      <th>test_brier</th>\n",
              "    </tr>\n",
              "  </thead>\n",
              "  <tbody>\n",
              "    <tr>\n",
              "      <th>4</th>\n",
              "      <td>Ensemble(LR+LGBM)</td>\n",
              "      <td>0.546658</td>\n",
              "      <td>0.865679</td>\n",
              "      <td>NaN</td>\n",
              "      <td>NaN</td>\n",
              "      <td>NaN</td>\n",
              "      <td>NaN</td>\n",
              "      <td>NaN</td>\n",
              "      <td>NaN</td>\n",
              "      <td>0.487810</td>\n",
              "      <td>0.847480</td>\n",
              "      <td>0.087442</td>\n",
              "    </tr>\n",
              "    <tr>\n",
              "      <th>0</th>\n",
              "      <td>LR</td>\n",
              "      <td>0.445096</td>\n",
              "      <td>0.843375</td>\n",
              "      <td>0.088688</td>\n",
              "      <td>0.333333</td>\n",
              "      <td>0.489510</td>\n",
              "      <td>0.507246</td>\n",
              "      <td>3.717442</td>\n",
              "      <td>True</td>\n",
              "      <td>NaN</td>\n",
              "      <td>NaN</td>\n",
              "      <td>NaN</td>\n",
              "    </tr>\n",
              "    <tr>\n",
              "      <th>5</th>\n",
              "      <td>Ensemble(ET)</td>\n",
              "      <td>0.420666</td>\n",
              "      <td>0.853974</td>\n",
              "      <td>NaN</td>\n",
              "      <td>NaN</td>\n",
              "      <td>NaN</td>\n",
              "      <td>NaN</td>\n",
              "      <td>NaN</td>\n",
              "      <td>NaN</td>\n",
              "      <td>0.391795</td>\n",
              "      <td>0.820206</td>\n",
              "      <td>0.093695</td>\n",
              "    </tr>\n",
              "    <tr>\n",
              "      <th>1</th>\n",
              "      <td>LGBM</td>\n",
              "      <td>0.402231</td>\n",
              "      <td>0.785225</td>\n",
              "      <td>0.093462</td>\n",
              "      <td>0.333333</td>\n",
              "      <td>0.451389</td>\n",
              "      <td>0.471014</td>\n",
              "      <td>3.427939</td>\n",
              "      <td>True</td>\n",
              "      <td>NaN</td>\n",
              "      <td>NaN</td>\n",
              "      <td>NaN</td>\n",
              "    </tr>\n",
              "    <tr>\n",
              "      <th>2</th>\n",
              "      <td>ET</td>\n",
              "      <td>0.391795</td>\n",
              "      <td>0.820206</td>\n",
              "      <td>0.093695</td>\n",
              "      <td>0.437500</td>\n",
              "      <td>0.448980</td>\n",
              "      <td>0.478261</td>\n",
              "      <td>3.409642</td>\n",
              "      <td>True</td>\n",
              "      <td>NaN</td>\n",
              "      <td>NaN</td>\n",
              "      <td>NaN</td>\n",
              "    </tr>\n",
              "    <tr>\n",
              "      <th>3</th>\n",
              "      <td>XGB</td>\n",
              "      <td>0.385579</td>\n",
              "      <td>0.788653</td>\n",
              "      <td>0.095058</td>\n",
              "      <td>0.478261</td>\n",
              "      <td>0.491379</td>\n",
              "      <td>0.413043</td>\n",
              "      <td>3.731634</td>\n",
              "      <td>True</td>\n",
              "      <td>NaN</td>\n",
              "      <td>NaN</td>\n",
              "      <td>NaN</td>\n",
              "    </tr>\n",
              "  </tbody>\n",
              "</table>\n",
              "</div>"
            ],
            "text/plain": [
              "               model    pr_auc   roc_auc     brier       thr  prec_top  \\\n",
              "4  Ensemble(LR+LGBM)  0.546658  0.865679       NaN       NaN       NaN   \n",
              "0                 LR  0.445096  0.843375  0.088688  0.333333  0.489510   \n",
              "5       Ensemble(ET)  0.420666  0.853974       NaN       NaN       NaN   \n",
              "1               LGBM  0.402231  0.785225  0.093462  0.333333  0.451389   \n",
              "2                 ET  0.391795  0.820206  0.093695  0.437500  0.448980   \n",
              "3                XGB  0.385579  0.788653  0.095058  0.478261  0.491379   \n",
              "\n",
              "    rec_top      lift calibrated  test_pr_auc  test_roc_auc  test_brier  \n",
              "4       NaN       NaN        NaN     0.487810      0.847480    0.087442  \n",
              "0  0.507246  3.717442       True          NaN           NaN         NaN  \n",
              "5       NaN       NaN        NaN     0.391795      0.820206    0.093695  \n",
              "1  0.471014  3.427939       True          NaN           NaN         NaN  \n",
              "2  0.478261  3.409642       True          NaN           NaN         NaN  \n",
              "3  0.413043  3.731634       True          NaN           NaN         NaN  "
            ]
          },
          "metadata": {},
          "output_type": "display_data"
        },
        {
          "name": "stdout",
          "output_type": "stream",
          "text": [
            "Overall winner: Ensemble(LR+LGBM)\n"
          ]
        }
      ],
      "source": [
        "# ===== 17) TOP-K SELECTION & SIMPLE ENSEMBLES (Average of Calibrated Probabilities) =====\n",
        "\n",
        "# top-k by validation PR-AUC\n",
        "k = 3\n",
        "top_models = comp.head(k)['model'].tolist()\n",
        "\n",
        "# registry of available calibrated models\n",
        "calibrated_models = {}\n",
        "if 'lr_cal'   in globals() and globals()['lr_cal']   is not None: calibrated_models['LR']   = lr_cal\n",
        "if 'lgbm_cal' in globals() and globals()['lgbm_cal'] is not None: calibrated_models['LGBM'] = lgbm_cal\n",
        "if 'xgb_cal'  in globals() and globals()['xgb_cal']  is not None: calibrated_models['XGB']  = xgb_cal\n",
        "if 'et_cal'   in globals() and globals()['et_cal']   is not None: calibrated_models['ET']   = et_cal   # ET on SVD per your setup\n",
        "if 'rf_cal'   in globals() and globals()['rf_cal']   is not None: calibrated_models['RF']   = rf_cal\n",
        "if 'dt_cal'   in globals() and globals()['dt_cal']   is not None: calibrated_models['DT']   = dt_cal\n",
        "\n",
        "# only keep top models that actually exist\n",
        "top_models = [m for m in top_models if m in calibrated_models]\n",
        "print(\"Top candidates:\", top_models)\n",
        "\n",
        "# map models to their feature space \n",
        "model_feature_space = {\n",
        "    'LR':  'sparse',\n",
        "    'LGBM':'sparse',\n",
        "    'XGB': 'sparse',\n",
        "    'ET':  'svd',   \n",
        "    'RF':  'svd',\n",
        "    'DT':  'svd',\n",
        "}\n",
        "\n",
        "def avg_probs(models, Xt_sparse=None, Xt_svd=None):\n",
        "    \"\"\"average calibrated probabilities; only requires the matrix for each model's space.\"\"\"\n",
        "    Ps = []\n",
        "    for m in models:\n",
        "        space = model_feature_space.get(m, 'sparse')\n",
        "        if space == 'sparse':\n",
        "            assert Xt_sparse is not None, f\"Need Xt_* for sparse to score {m}\"\n",
        "            X_use = Xt_sparse\n",
        "        elif space == 'svd':\n",
        "            assert Xt_svd is not None, f\"Need Xt_*_svd to score {m}\"\n",
        "            X_use = Xt_svd\n",
        "        else:\n",
        "            raise ValueError(f\"Unknown feature space for model: {m}\")\n",
        "        Ps.append(calibrated_models[m].predict_proba(X_use)[:, 1])\n",
        "    return np.mean(Ps, axis=0)\n",
        "\n",
        "def summarize(name, p_val, p_test):\n",
        "    return {\n",
        "        \"model\": name,\n",
        "        \"pr_auc\":     float(average_precision_score(y_val,  p_val)),\n",
        "        \"roc_auc\":    float(roc_auc_score(y_val,  p_val)),\n",
        "        \"test_pr_auc\":float(average_precision_score(y_test, p_test)),\n",
        "        \"test_roc_auc\":float(roc_auc_score(y_test, p_test)),\n",
        "        \"test_brier\": float(brier_score_loss(y_test, p_test)),\n",
        "    }\n",
        "\n",
        "ensemble_rows = []\n",
        "\n",
        "# sparse-only ensemble (e.g., LR + LGBM + XGB)\n",
        "sparse_members = [m for m in top_models if model_feature_space.get(m) == 'sparse']\n",
        "if sparse_members:\n",
        "    assert 'Xt_val' in globals() and 'Xt_test' in globals(), \"Xt_val/Xt_test missing\"\n",
        "    p_val_es  = avg_probs(sparse_members, Xt_sparse=Xt_val)\n",
        "    p_test_es = avg_probs(sparse_members, Xt_sparse=Xt_test)\n",
        "    ensemble_rows.append(summarize(f\"Ensemble({'+'.join(sparse_members)})\", p_val_es, p_test_es))\n",
        "\n",
        "# SVD-only ensemble (e.g., ET + RF + DT)\n",
        "svd_members = [m for m in top_models if model_feature_space.get(m) == 'svd']\n",
        "if svd_members:\n",
        "    assert 'Xt_val_svd' in globals() and 'Xt_test_svd' in globals(), \"Xt_val_svd/Xt_test_svd missing\"\n",
        "    p_val_es_svd  = avg_probs(svd_members, Xt_svd=Xt_val_svd)\n",
        "    p_test_es_svd = avg_probs(svd_members, Xt_svd=Xt_test_svd)\n",
        "    ensemble_rows.append(summarize(f\"Ensemble({'+'.join(svd_members)})\", p_val_es_svd, p_test_es_svd))\n",
        "\n",
        "# compare singles vs ensembles\n",
        "comp_plus = pd.DataFrame(list(comp.to_dict('records')) + ensemble_rows).sort_values('pr_auc', ascending=False)\n",
        "display(comp_plus)\n",
        "\n",
        "overall_winner = comp_plus.iloc[0]['model']\n",
        "print(\"Overall winner:\", overall_winner)\n"
      ]
    },
    {
      "cell_type": "code",
      "execution_count": 130,
      "id": "a6b3340b",
      "metadata": {
        "colab": {
          "base_uri": "https://localhost:8080/",
          "height": 773
        },
        "id": "a6b3340b",
        "outputId": "2d671983-f350-47ef-e834-0001b3c5308a"
      },
      "outputs": [
        {
          "name": "stderr",
          "output_type": "stream",
          "text": [
            "/Users/asmitabisht/Desktop/repo/.venv/lib/python3.9/site-packages/sklearn/utils/validation.py:2739: UserWarning: X does not have valid feature names, but LGBMClassifier was fitted with feature names\n",
            "  warnings.warn(\n",
            "/Users/asmitabisht/Desktop/repo/.venv/lib/python3.9/site-packages/sklearn/utils/validation.py:2739: UserWarning: X does not have valid feature names, but LGBMClassifier was fitted with feature names\n",
            "  warnings.warn(\n"
          ]
        },
        {
          "name": "stdout",
          "output_type": "stream",
          "text": [
            "Val PR-AUC: 0.5466576358392841\n",
            "Test PR-AUC: 0.48781007890465067\n",
            "Saved bundle -> models/phase3_bundle_Ensemble(LR+LGBM)_2025-09-22T03-30-14Z.joblib\n",
            "Saved meta   -> reports/bundle_meta_2025-09-22T03-30-14Z.json\n"
          ]
        }
      ],
      "source": [
        "# ===== 18) BUILD & SAVE DEPLOYABLE PIPELINE (PREPROCESSOR → WINNER/ENSEMBLE) + META =====\n",
        "\n",
        "# build the deployed classifier from FITTED estimators (not names) ---\n",
        "if overall_winner.startswith(\"Ensemble(\"):\n",
        "    labels = overall_winner[len(\"Ensemble(\"):-1].split(\"+\")   \n",
        "    members = [calibrated_models[l] for l in labels]          # FITTED models\n",
        "    weights = [1.0/len(members)] * len(members)              \n",
        "else:\n",
        "    members = [calibrated_models[overall_winner]]             # single fitted model\n",
        "    weights = [1.0]\n",
        "\n",
        "deployed_model = SoftVotingEnsemble(models=members, weights=weights)\n",
        "\n",
        "# evaluate quickly on the correct feature space\n",
        "if winner_space == \"svd\":\n",
        "    X_val_use, X_test_use = Xt_val_svd, Xt_test_svd\n",
        "elif winner_space == \"sparse\":\n",
        "    X_val_use, X_test_use = Xt_val, Xt_test\n",
        "else:\n",
        "    raise ValueError(f\"Unknown winner_space: {winner_space}\")\n",
        "\n",
        "p_val_final  = deployed_model.predict_proba(X_val_use)[:, 1]\n",
        "p_test_final = deployed_model.predict_proba(X_test_use)[:, 1]\n",
        "\n",
        "print(\"Val PR-AUC:\", average_precision_score(y_val, p_val_final))\n",
        "print(\"Test PR-AUC:\", average_precision_score(y_test, p_test_final))\n",
        "bundle = SkPipeline([(\"pre\", pre_for_space), (\"clf\", deployed_model)])\n",
        "\n",
        "# save bundle + meta how app expects\n",
        "os.makedirs(\"models\", exist_ok=True)\n",
        "os.makedirs(\"reports\", exist_ok=True)\n",
        "stamp = datetime.now(timezone.utc).strftime(\"%Y-%m-%dT%H-%M-%SZ\")\n",
        "\n",
        "bundle_path = f\"models/phase3_bundle_{overall_winner}_{stamp}.joblib\"\n",
        "joblib.dump(bundle, bundle_path)\n",
        "\n",
        "meta = {\n",
        "    \"winner\": overall_winner,\n",
        "    \"winner_space\": winner_space,\n",
        "    \"threshold_val_top_frac\": float(thr),\n",
        "    \"top_frac\": float(TOP_FRAC),\n",
        "}\n",
        "meta_path = f\"reports/bundle_meta_{stamp}.json\"\n",
        "with open(meta_path, \"w\") as f:\n",
        "    json.dump(meta, f, indent=2)\n",
        "\n",
        "print(\"Saved bundle ->\", bundle_path)\n",
        "print(\"Saved meta   ->\", meta_path)\n"
      ]
    },
    {
      "cell_type": "code",
      "execution_count": null,
      "id": "QeF_S7Nl2FeF",
      "metadata": {
        "colab": {
          "base_uri": "https://localhost:8080/",
          "height": 1000
        },
        "id": "QeF_S7Nl2FeF",
        "outputId": "20e8b848-1e45-4b78-e530-7e2347b7d9d4"
      },
      "outputs": [
        {
          "data": {
            "image/png": "[encoded data removed]",
            "text/plain": [
              "<Figure size 600x450 with 1 Axes>"
            ]
          },
          "metadata": {},
          "output_type": "display_data"
        },
        {
          "data": {
            "image/png": "[encoded data removed]",
            "text/plain": [
              "<Figure size 600x450 with 1 Axes>"
            ]
          },
          "metadata": {},
          "output_type": "display_data"
        },
        {
          "data": {
            "image/png": "[encoded data removed]",
            "text/plain": [
              "<Figure size 600x450 with 1 Axes>"
            ]
          },
          "metadata": {},
          "output_type": "display_data"
        },
        {
          "data": {
            "image/png": "[encoded data removed]",
            "text/plain": [
              "<Figure size 600x450 with 1 Axes>"
            ]
          },
          "metadata": {},
          "output_type": "display_data"
        },
        {
          "data": {
            "text/html": [
              "<div>\n",
              "<style scoped>\n",
              "    .dataframe tbody tr th:only-of-type {\n",
              "        vertical-align: middle;\n",
              "    }\n",
              "\n",
              "    .dataframe tbody tr th {\n",
              "        vertical-align: top;\n",
              "    }\n",
              "\n",
              "    .dataframe thead th {\n",
              "        text-align: right;\n",
              "    }\n",
              "</style>\n",
              "<table border=\"1\" class=\"dataframe\">\n",
              "  <thead>\n",
              "    <tr style=\"text-align: right;\">\n",
              "      <th></th>\n",
              "      <th>n</th>\n",
              "      <th>avg_pred</th>\n",
              "      <th>emp_rate</th>\n",
              "    </tr>\n",
              "  </thead>\n",
              "  <tbody>\n",
              "    <tr>\n",
              "      <th>0</th>\n",
              "      <td>350</td>\n",
              "      <td>0.015429</td>\n",
              "      <td>0.017143</td>\n",
              "    </tr>\n",
              "    <tr>\n",
              "      <th>1</th>\n",
              "      <td>138</td>\n",
              "      <td>0.045148</td>\n",
              "      <td>0.043478</td>\n",
              "    </tr>\n",
              "    <tr>\n",
              "      <th>2</th>\n",
              "      <td>38</td>\n",
              "      <td>0.059005</td>\n",
              "      <td>0.000000</td>\n",
              "    </tr>\n",
              "    <tr>\n",
              "      <th>3</th>\n",
              "      <td>136</td>\n",
              "      <td>0.082256</td>\n",
              "      <td>0.080882</td>\n",
              "    </tr>\n",
              "    <tr>\n",
              "      <th>4</th>\n",
              "      <td>72</td>\n",
              "      <td>0.116164</td>\n",
              "      <td>0.138889</td>\n",
              "    </tr>\n",
              "    <tr>\n",
              "      <th>5</th>\n",
              "      <td>104</td>\n",
              "      <td>0.157672</td>\n",
              "      <td>0.163462</td>\n",
              "    </tr>\n",
              "    <tr>\n",
              "      <th>6</th>\n",
              "      <td>122</td>\n",
              "      <td>0.260173</td>\n",
              "      <td>0.295082</td>\n",
              "    </tr>\n",
              "    <tr>\n",
              "      <th>7</th>\n",
              "      <td>88</td>\n",
              "      <td>0.526888</td>\n",
              "      <td>0.590909</td>\n",
              "    </tr>\n",
              "  </tbody>\n",
              "</table>\n",
              "</div>"
            ],
            "text/plain": [
              "     n  avg_pred  emp_rate\n",
              "0  350  0.015429  0.017143\n",
              "1  138  0.045148  0.043478\n",
              "2   38  0.059005  0.000000\n",
              "3  136  0.082256  0.080882\n",
              "4   72  0.116164  0.138889\n",
              "5  104  0.157672  0.163462\n",
              "6  122  0.260173  0.295082\n",
              "7   88  0.526888  0.590909"
            ]
          },
          "metadata": {},
          "output_type": "display_data"
        },
        {
          "name": "stdout",
          "output_type": "stream",
          "text": [
            "\n",
            "Classification report @ chosen threshold:\n",
            "              precision    recall  f1-score   support\n",
            "\n",
            "           0      0.915     0.942     0.928       910\n",
            "           1      0.523     0.420     0.466       138\n",
            "\n",
            "    accuracy                          0.873      1048\n",
            "   macro avg      0.719     0.681     0.697      1048\n",
            "weighted avg      0.863     0.873     0.867      1048\n",
            "\n",
            "\n",
            "=== Basic Analysis (TEST) ===\n",
            "Base rate (positives): 0.132\n",
            "PR-AUC (AP):           0.488\n",
            "ROC-AUC:               0.847\n",
            "Brier score:           0.087  (lower is better)\n",
            "ECE (10 bins):         0.016  (lower is better)\n",
            "\n",
            "Operating point (validation top 10% threshold = 0.333):\n",
            " Flagging rate (TEST): 0.106\n",
            " Precision:            0.523\n",
            " Recall:               0.420\n",
            " Specificity:          0.942\n",
            " Accuracy:             0.873\n",
            " F1 score:             0.466\n",
            " Lift vs. base:        3.97x\n"
          ]
        }
      ],
      "source": [
        "# ===== 19) INLINE DIAGNOSTICS + BASIC ANALYSIS =====\n",
        "\n",
        "y_true = np.asarray(y_test).astype(int)\n",
        "p_pred = np.asarray(p_test_final, dtype=float)\n",
        "\n",
        "# scalar metrics (TEST) \n",
        "ap  = float(average_precision_score(y_true, p_pred))   \n",
        "auc = float(roc_auc_score(y_true, p_pred))             \n",
        "brier = float(brier_score_loss(y_true, p_pred))\n",
        "base = float(y_true.mean())\n",
        "\n",
        "# thresholded metrics using validation-picked thr\n",
        "y_hat = (p_pred >= thr).astype(int)\n",
        "tn, fp, fn, tp = confusion_matrix(y_true, y_hat).ravel()\n",
        "prec = tp / (tp + fp) if (tp + fp) else 0.0\n",
        "rec  = tp / (tp + fn) if (tp + fn) else 0.0\n",
        "spec = tn / (tn + fp) if (tn + fp) else 0.0\n",
        "acc  = (tp + tn) / (tn + fp + fn + tp)\n",
        "f1   = (2*prec*rec)/(prec+rec) if (prec+rec) else 0.0\n",
        "flag_rate = float(y_hat.mean())\n",
        "lift = (prec / base) if base > 0 else float('nan')\n",
        "\n",
        "#  PR curve & ROC curve \n",
        "prec_curve, rec_curve, _ = precision_recall_curve(y_true, p_pred)\n",
        "fpr, tpr, _ = roc_curve(y_true, p_pred)\n",
        "\n",
        "plt.figure(figsize=(6,4.5))\n",
        "plt.plot(rec_curve, prec_curve, linewidth=2)\n",
        "plt.xlabel(\"Recall\"); plt.ylabel(\"Precision\")\n",
        "plt.title(f\"PR Curve — {overall_winner} (AP={ap:.3f})\")\n",
        "plt.grid(alpha=0.3)\n",
        "plt.show()\n",
        "\n",
        "plt.figure(figsize=(6,4.5))\n",
        "plt.plot([0,1],[0,1],'--', linewidth=1)\n",
        "plt.plot(fpr, tpr, linewidth=2)\n",
        "plt.xlabel(\"False Positive Rate\"); plt.ylabel(\"True Positive Rate\")\n",
        "plt.title(f\"ROC Curve — {overall_winner} (AUC={auc:.3f})\")\n",
        "plt.grid(alpha=0.3)\n",
        "plt.show()\n",
        "\n",
        "#  reliability (calibration) diagram \n",
        "prob_true, prob_pred = calibration_curve(y_true, p_pred, n_bins=10, strategy='quantile')\n",
        "plt.figure(figsize=(6,4.5))\n",
        "plt.plot([0,1],[0,1],'--', linewidth=1)\n",
        "plt.plot(prob_pred, prob_true, marker='o', linewidth=2)\n",
        "plt.xlabel(\"Predicted probability\")\n",
        "plt.ylabel(\"Observed frequency\")\n",
        "plt.title(f\"Reliability Diagram — ECE≈{test_ece10:.3f}\")\n",
        "plt.grid(alpha=0.3)\n",
        "plt.show()\n",
        "\n",
        "#  score histograms by class (how well it separates) \n",
        "plt.figure(figsize=(6,4.5))\n",
        "plt.hist(p_pred[y_true==0], bins=30, alpha=0.7, label=\"negatives\", density=True)\n",
        "plt.hist(p_pred[y_true==1], bins=30, alpha=0.7, label=\"positives\", density=True)\n",
        "plt.axvline(thr, linestyle='--', linewidth=2, label=f\"thr={thr:.3f}\")\n",
        "plt.xlabel(\"Predicted probability\"); plt.ylabel(\"Density\")\n",
        "plt.title(\"Score Distribution by Class (TEST)\")\n",
        "plt.legend()\n",
        "plt.grid(alpha=0.3)\n",
        "plt.show()\n",
        "\n",
        "# reliability table (10-bin) \n",
        "import pandas as pd\n",
        "bin_df = pd.DataFrame({\"pred\": p_pred, \"y\": y_true})\n",
        "q = pd.qcut(bin_df[\"pred\"], q=10, duplicates='drop')\n",
        "rel_tbl = bin_df.groupby(q, observed=True).agg(\n",
        "    n=(\"y\",\"size\"),\n",
        "    avg_pred=(\"pred\",\"mean\"),\n",
        "    emp_rate=(\"y\",\"mean\")\n",
        ").reset_index(drop=True)\n",
        "display(rel_tbl)\n",
        "\n",
        "#  classification report at chosen threshold \n",
        "print(\"\\nClassification report @ chosen threshold:\")\n",
        "print(classification_report(y_true, y_hat, digits=3))\n",
        "\n",
        "#  concise analysis summary \n",
        "print(\"\\n=== Basic Analysis (TEST) ===\")\n",
        "print(f\"Base rate (positives): {base:.3f}\")\n",
        "print(f\"PR-AUC (AP):           {ap:.3f}\")\n",
        "print(f\"ROC-AUC:               {auc:.3f}\")\n",
        "print(f\"Brier score:           {brier:.3f}  (lower is better)\")\n",
        "print(f\"ECE (10 bins):         {test_ece10:.3f}  (lower is better)\")\n",
        "print(f\"\\nOperating point (validation top {int(TOP_FRAC*100)}% threshold = {thr:.3f}):\")\n",
        "print(f\" Flagging rate (TEST): {flag_rate:.3f}\")\n",
        "print(f\" Precision:            {prec:.3f}\")\n",
        "print(f\" Recall:               {rec:.3f}\")\n",
        "print(f\" Specificity:          {spec:.3f}\")\n",
        "print(f\" Accuracy:             {acc:.3f}\")\n",
        "print(f\" F1 score:             {f1:.3f}\")\n",
        "print(f\" Lift vs. base:        {lift:.2f}x\")\n"
      ]
    }
  ],
  "metadata": {
    "colab": {
      "provenance": []
    },
    "kernelspec": {
      "display_name": ".venv",
      "language": "python",
      "name": "python3"
    },
    "language_info": {
      "codemirror_mode": {
        "name": "ipython",
        "version": 3
      },
      "file_extension": ".py",
      "mimetype": "text/x-python",
      "name": "python",
      "nbconvert_exporter": "python",
      "pygments_lexer": "ipython3",
      "version": "3.9.6"
    }
  },
  "nbformat": 4,
  "nbformat_minor": 5
}
